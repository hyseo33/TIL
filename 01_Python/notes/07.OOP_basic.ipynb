{
 "cells": [
  {
   "cell_type": "code",
   "execution_count": null,
   "metadata": {},
   "outputs": [],
   "source": [
    "from IPython.display import IFrame"
   ]
  },
  {
   "cell_type": "markdown",
   "metadata": {},
   "source": [
    "# OOP with python\n",
    "\n",
    "## 시작하기전에\n",
    "\n",
    "<wikipedia - 객체지향 프로그래밍> \n",
    ">\n",
    "> 객체 지향 프로그래밍(영어: Object-Oriented Programming, OOP)은 컴퓨터 프로그래밍의 패러다임의 하나이다. 객체 지향 프로그래밍은 컴퓨터 프로그램을 명령어의 목록으로 보는 시각에서 벗어나 여러 개의 독립된 단위, 즉 \"객체\"들의 모임으로 파악하고자 하는 것이다. 각각의 객체는 메시지를 주고받고, 데이터를 처리할 수 있다.\n",
    ">\n",
    "> 명령형 프로그래밍인 절차지향 프로그래밍에서 발전된 형태를 나타내며, 기본 구성요소는 다음과 같다.\n",
    "\n",
    "* 클래스(Class) \n",
    "    - 같은 종류(또는 문제 해결을 위한)의 집단에 속하는 **속성(attribute)**과 **행위(behavior)**를 정의한 것으로 객체지향 프로그램의 기본적인 사용자 정의 데이터형(user define data type)이라고 할 수 있다\n",
    "    - 클래스는 프로그래머가 아니지만 해결해야 할 문제가 속하는 영역에 종사하는 사람이라면 사용할 수 있고, 다른 클래스 또는 외부 요소와 독립적으로 디자인하여야 한다.\n",
    "\n",
    "\n",
    "* 인스턴스(instance) \n",
    "    - 클래스의 인스턴스/객체(실제로 메모리상에 할당된 것)이다. \n",
    "    - 객체는 자신 고유의 속성(attribute)을 가지며 클래스에서 정의한 행위(behavior)를 수행할 수 있다. \n",
    "    - 객체의 행위는 클래스에 정의된 행위에 대한 정의(메서드)를 공유함으로써 메모리를 경제적으로 사용한다.\n",
    "\n",
    "\n",
    "* 속성(attribute) \n",
    "    - 클래스/인스턴스 가 가지고 있는 속성(값)\n",
    "\n",
    "\n",
    "* 메서드(Method) \n",
    "    - 클래스/인스턴스 가 할 수 있는 행위(함수)"
   ]
  },
  {
   "cell_type": "markdown",
   "metadata": {},
   "source": [
    "\n",
    "\n",
    "| class / type | instance                 | attributes       | methods                                |\n",
    "| ------------ | ------------------------ | ---------------- | -------------------------------------- |\n",
    "| `str`        | `''`, `'hello'`, `'123'` |       _          | `.capitalize()`, `.join()`, `.split()` |\n",
    "| `list`       | `[]`, `['a', 'b']`       |       _          | `.append()`, `reverse()`, `sort()`     |\n",
    "| `dict`       | `{}`, `{'key': 'value'}` |       _          | `.keys()`, `.values()`, `.items().`    |\n",
    "| `int`        | `0`, `1`, `2`            |       -          |                                        |"
   ]
  },
  {
   "cell_type": "code",
   "execution_count": null,
   "metadata": {},
   "outputs": [],
   "source": [
    "# 복소수를 하나 만들어보고, 타입을 출력해봅시다."
   ]
  },
  {
   "cell_type": "code",
   "execution_count": null,
   "metadata": {},
   "outputs": [],
   "source": [
    "img_number = 3 + 4j\n",
    "print(type(img_number))"
   ]
  },
  {
   "cell_type": "markdown",
   "metadata": {},
   "source": [
    "> 위에서 말한 속성(값)과 행위(메서드)를 명확히 구분해 봅시다\n",
    "\n",
    "* `complex` class의 객체들의 속성들을 확인해 봅시다."
   ]
  },
  {
   "cell_type": "code",
   "execution_count": null,
   "metadata": {},
   "outputs": [],
   "source": [
    "# 허수부랑 실수부를 함께 출력해봅시다. complex 객체의 실수 속성(attribute)과 허수 속성(attribute)이라고도 표현 가능합니다."
   ]
  },
  {
   "cell_type": "code",
   "execution_count": null,
   "metadata": {},
   "outputs": [],
   "source": [
    "print(img_number.real)\n",
    "print(img_number.imag)"
   ]
  },
  {
   "cell_type": "markdown",
   "metadata": {},
   "source": [
    "* `list` class의 객체들이 할 수 있는 행위(메서드)들을 확인해 봅시다."
   ]
  },
  {
   "cell_type": "code",
   "execution_count": null,
   "metadata": {},
   "outputs": [],
   "source": [
    "# 리스트를 하나 만들고 정렬해봅시다. list 객체의 메서드 실행이라고도 표현 가능합니다."
   ]
  },
  {
   "cell_type": "code",
   "execution_count": null,
   "metadata": {},
   "outputs": [],
   "source": [
    "my_list = [3, 2, 1]\n",
    "print(type(my_list))\n",
    "\n",
    "my_list.sort()\n",
    "print(my_list)"
   ]
  },
  {
   "cell_type": "code",
   "execution_count": null,
   "metadata": {},
   "outputs": [],
   "source": [
    "# list class 의 객체들이 할 수 있는 것들을 알아봅시다. (list 객체가 가지고 있는 모든 속성과 메서드를 보여줍니다.)"
   ]
  },
  {
   "cell_type": "code",
   "execution_count": null,
   "metadata": {},
   "outputs": [],
   "source": [
    "print(dir(list))"
   ]
  },
  {
   "cell_type": "markdown",
   "metadata": {},
   "source": [
    "## 실습 (without OOP)\n",
    "\n",
    "> 프로그래밍으로, 현재 나의 핸드폰을 코드로 옮겨봅시다.\n",
    "\n",
    "**정답은 없습니다. 자유롭게 구현해 봅시다.**\n",
    "\n",
    "* 핸드폰은 다음과 같은 속성(값)을 가지고 있습니다.\n",
    "    * 전원(`power`) - `bool`\n",
    "    * 내 전화번호(`number`) - `str`\n",
    "    * 전화번호부(`book`) - `dict`\n",
    "    * 모델명(`model`) - `str`\n",
    "\n",
    "* 핸드폰은 다음과 같은 다음과 같은 행동(함수)을 할 수 있습니다.\n",
    "    * 켜기(`on()`)\n",
    "    * 끄기(`off()`)\n",
    "    * 내 전화번호 설정하기(`set_my_number(number)`)\n",
    "    * 전화걸기(`call(number)`)\n",
    "    * 전화번호부에 번호 저장하기(`save(name, number)`)"
   ]
  },
  {
   "cell_type": "code",
   "execution_count": null,
   "metadata": {},
   "outputs": [],
   "source": [
    "# 아래에 자유롭게 코드를 작성해보세요."
   ]
  },
  {
   "cell_type": "code",
   "execution_count": null,
   "metadata": {},
   "outputs": [],
   "source": [
    "#스앵님 풀이\n",
    "#핸드폰이 가지고 있는 속성(값)\n",
    "power = False\n",
    "number = ''\n",
    "book = {}\n",
    "model = 'iPhone XR'\n",
    "\n",
    "#핸드폰이 할 수 있는 행위(행동)\n",
    "def on():\n",
    "    if not power: #핸드폰이 꺼져있다면\n",
    "        power = True #전원을 켜자\n",
    "        return power\n",
    "def off():\n",
    "    if power: #핸드폰이 켜져있다면\n",
    "        power = False #전원을 끄자\n",
    "        return power\n",
    "    \n",
    "def set_my_number(number):\n",
    "    if power: #핸드폰 전원이 켜져있으면\n",
    "        number = number #내 전화번호 설정\n",
    "        \n",
    "def call(number):\n",
    "    if power: #핸드폰 전원이 켜져있으면\n",
    "        if number in book: #인자로 받은 번호가 전화번호부에 있다면\n",
    "            print(f'{book[number]}에게 전화중입니다.')\n",
    "        else: #전화번호부에 번호가 없다면\n",
    "            print(f'{number}에게 전화중입니다.')\n",
    "            \n",
    "def save(name, number):\n",
    "    if power: #핸드폰 전원이 켜져있다면\n",
    "        book[name] = number #전화번호 추가\n",
    "        return book"
   ]
  },
  {
   "cell_type": "code",
   "execution_count": null,
   "metadata": {},
   "outputs": [],
   "source": [
    "# 내꼬 ㅜㅜㅜ\n",
    "def on():\n",
    "    if model == 'iPhone XR':\n",
    "        if power == False:\n",
    "            return True\n",
    "        else:\n",
    "            return True\n",
    "    else:\n",
    "        return False\n",
    "\n",
    "def off():\n",
    "    if model == 'iPhone XR':\n",
    "        if power == True:\n",
    "            return False\n",
    "        else:\n",
    "            return False\n",
    "    else:\n",
    "        return False\n",
    "\n",
    "def set_my_number(numbers):\n",
    "    numbers = str(numbers)\n",
    "    number = []\n",
    "    for num in numbers:\n",
    "        result = number.append(num)\n",
    "        return result\n",
    "        \n",
    "def call(numbers):\n",
    "    if power == True:\n",
    "        return numbers\n",
    "    else:\n",
    "        return None\n",
    "    \n",
    "def save(name, numbers):\n",
    "    book = {}\n",
    "    if power == True:\n",
    "        book['name'] = numbers\n",
    "        return book\n",
    "    else:\n",
    "        return None\n",
    "    \n",
    "    "
   ]
  },
  {
   "cell_type": "code",
   "execution_count": null,
   "metadata": {},
   "outputs": [],
   "source": [
    "# 핸드폰을 켜지 않고 이런저런 일을 해 봅시다. 긴급 상황입니다. 112에 전화를 하죠."
   ]
  },
  {
   "cell_type": "code",
   "execution_count": null,
   "metadata": {},
   "outputs": [],
   "source": [
    "call('112')"
   ]
  },
  {
   "cell_type": "code",
   "execution_count": null,
   "metadata": {},
   "outputs": [],
   "source": [
    "# 전화가 안걸려요. 생각해보니.. 핸드폰을 안켰어요. 핸드폰을 켜봅시다. "
   ]
  },
  {
   "cell_type": "code",
   "execution_count": null,
   "metadata": {},
   "outputs": [],
   "source": [
    "on()\n",
    "print(power)"
   ]
  },
  {
   "cell_type": "code",
   "execution_count": null,
   "metadata": {},
   "outputs": [],
   "source": [
    "# 켜지지 않고 에러가 납니다.. 어째서 그런 걸까요?"
   ]
  },
  {
   "cell_type": "code",
   "execution_count": null,
   "metadata": {},
   "outputs": [],
   "source": [
    "# namespace! 함수 바깥의 power(global) 와 함수 안의 power(lexical) 는 다른 이름공간에 있습니다. \n",
    "# 즉, if not power에서 power가 함수 내부에 정의된 적이 없는데 평가를 하려고 하죠!!\n",
    "# 전원을 켜야합니다!!"
   ]
  },
  {
   "cell_type": "code",
   "execution_count": null,
   "metadata": {},
   "outputs": [],
   "source": [
    "power = True"
   ]
  },
  {
   "cell_type": "code",
   "execution_count": null,
   "metadata": {},
   "outputs": [],
   "source": [
    "# save 를 통해 번호를 저장해 봅시다."
   ]
  },
  {
   "cell_type": "code",
   "execution_count": null,
   "metadata": {},
   "outputs": [],
   "source": [
    "save('엄마', '01045667893')"
   ]
  },
  {
   "cell_type": "code",
   "execution_count": null,
   "metadata": {},
   "outputs": [],
   "source": [
    "# call 을 통해 전화를 걸어봅시다."
   ]
  },
  {
   "cell_type": "code",
   "execution_count": null,
   "metadata": {},
   "outputs": [],
   "source": [
    "call('01012345697')"
   ]
  },
  {
   "cell_type": "code",
   "execution_count": null,
   "metadata": {},
   "outputs": [],
   "source": [
    "call('01045667893')"
   ]
  },
  {
   "cell_type": "code",
   "execution_count": null,
   "metadata": {},
   "outputs": [],
   "source": [
    "call('엄마')"
   ]
  },
  {
   "cell_type": "markdown",
   "metadata": {},
   "source": [
    "### 문제점\n",
    "\n",
    "현재 코드로 구현한 핸드폰에서 잘못되었다고 느껴지거나 문제가 발생할 만한 요소들을 이야기 해 봅시다. \n",
    "\n",
    "기존의 방식대로 다른 사람의 핸드폰을 구현해야 한다면? 그 수가 엄청 많다면?? 새 파일(모듈)?"
   ]
  },
  {
   "cell_type": "code",
   "execution_count": null,
   "metadata": {},
   "outputs": [],
   "source": [
    "# 클래스(핸드폰)를 만들고 인스턴스(아이폰, 갤럭시 등)로 만들어서 클래스가 공통적으로 할 수 있는 메서드를 만들 수 있다."
   ]
  },
  {
   "cell_type": "markdown",
   "metadata": {},
   "source": [
    "# 클래스 및 인스턴스"
   ]
  },
  {
   "cell_type": "markdown",
   "metadata": {},
   "source": [
    "## 클래스 정의하기 (클래스 객체 생성하기)\n",
    "\n",
    "```python\n",
    "class ClassName:\n",
    "    \n",
    "```\n",
    "\n",
    "* 선언과 동시에 클래스 객체가 생성됨.\n",
    "\n",
    "* 또한, 선언된 공간은 지역 스코프(local scope)로 사용된다.\n",
    "    - 히키코모리 막내 동생의 방\n",
    "\n",
    "* 정의된 어트리뷰트 중 변수는 멤버 변수로 불리운다.\n",
    "    - 멤버 변수: 클래스 변수 / 인스턴스 변수 통칭\n",
    "\n",
    "* class 안에서 정의된 함수(`def`)는 메서드로 불리운다.\n",
    "    - 모든 메서드는 함수이다.(O)\n",
    "    - 모든 함수는 메서드이다.(x)"
   ]
  },
  {
   "cell_type": "code",
   "execution_count": null,
   "metadata": {},
   "outputs": [],
   "source": [
    "# Class를 만들어봅시다."
   ]
  },
  {
   "cell_type": "code",
   "execution_count": null,
   "metadata": {},
   "outputs": [],
   "source": [
    "class TestClass:\n",
    "    \"\"\"\n",
    "    This is Test Class\n",
    "    \"\"\"\n",
    "    name = 'TestClass'"
   ]
  },
  {
   "cell_type": "code",
   "execution_count": null,
   "metadata": {},
   "outputs": [],
   "source": [
    "print(TestClass)"
   ]
  },
  {
   "cell_type": "markdown",
   "metadata": {},
   "source": [
    "## 인스턴스 생성하기\n",
    "\n",
    "* 인스턴스 객체는 `ClassName()`을 호출함으로써 선언된다.\n",
    "    - 클래스를 호출하는 것은 함수를 호출하는 것처럼 `클래스이름()`으로 한다.\n",
    "* 인스턴스 객체와 클래스 객체는 서로 다른 이름 공간을 가지고 있다.\n",
    "    - 클래스 변수와 인스턴스 변수는 다른 이름 공간(Namespace)를 갖습니다.\n",
    "* **인스턴스 => 클래스 => 전역 순으로 탐색을 한다.**"
   ]
  },
  {
   "cell_type": "code",
   "execution_count": null,
   "metadata": {},
   "outputs": [],
   "source": [
    "# TestClass 의 인스턴스를 만들어 봅시다."
   ]
  },
  {
   "cell_type": "code",
   "execution_count": null,
   "metadata": {},
   "outputs": [],
   "source": [
    "tc = TestClass() #TestClass라는 Class로부터 tc라는 인스턴스를 생성함.\n",
    "print(tc)\n",
    "print(tc.__doc__) #tc의 속성이 없기때문에 클래스의 속성을 가져옴."
   ]
  },
  {
   "cell_type": "code",
   "execution_count": null,
   "metadata": {},
   "outputs": [],
   "source": [
    "# namespace..?"
   ]
  },
  {
   "cell_type": "code",
   "execution_count": null,
   "metadata": {},
   "outputs": [],
   "source": [
    "print(tc.name)\n",
    "\n",
    "tc.name = 'tc'\n",
    "print(tc.name)"
   ]
  },
  {
   "cell_type": "code",
   "execution_count": null,
   "metadata": {},
   "outputs": [],
   "source": [
    "# 제일 처음에 만들었던 핸드폰 코드를 Phone 클래스로 바꿔서 작성해봅시다."
   ]
  },
  {
   "cell_type": "code",
   "execution_count": null,
   "metadata": {},
   "outputs": [],
   "source": []
  },
  {
   "cell_type": "markdown",
   "metadata": {},
   "source": [
    "* 선언시 `self`는 반드시 작성해주세요! 아래에서 다시 다룹니다."
   ]
  },
  {
   "cell_type": "code",
   "execution_count": 12,
   "metadata": {},
   "outputs": [],
   "source": [
    "class Phone:\n",
    "    power = False\n",
    "    number = ''\n",
    "    book = {}\n",
    "    model = 'Samsung Galaxy s10'\n",
    "    \n",
    "    def on(self):\n",
    "        if not self.power:\n",
    "            self.power = True\n",
    "            print('--------------')\n",
    "            print(f'{self.model}')\n",
    "            print('--------------')\n",
    "                  \n",
    "    def off(self):\n",
    "        if self.power:\n",
    "            self.power = False\n",
    "            print('폰 꺼짐')"
   ]
  },
  {
   "cell_type": "code",
   "execution_count": null,
   "metadata": {},
   "outputs": [],
   "source": [
    "# Phone 클래스로부터 인스턴스 객체를 생성하고 출력해봅시다."
   ]
  },
  {
   "cell_type": "code",
   "execution_count": 13,
   "metadata": {},
   "outputs": [
    {
     "name": "stdout",
     "output_type": "stream",
     "text": [
      "Samsung Galaxy s10\n"
     ]
    }
   ],
   "source": [
    "p = Phone() #인스턴스(p) 객체 생성\n",
    "print(p.model)"
   ]
  },
  {
   "cell_type": "code",
   "execution_count": null,
   "metadata": {},
   "outputs": [],
   "source": [
    "# 클래스 Phone의 인스턴스 'justin_phone' 를 만들어봅시다. "
   ]
  },
  {
   "cell_type": "code",
   "execution_count": 14,
   "metadata": {},
   "outputs": [],
   "source": [
    "hyeyoung_phone = Phone() #hyeyoung_phone 인스턴스 생성"
   ]
  },
  {
   "cell_type": "code",
   "execution_count": null,
   "metadata": {},
   "outputs": [],
   "source": [
    "# 켜져 있나 확인해 봅시다."
   ]
  },
  {
   "cell_type": "code",
   "execution_count": 15,
   "metadata": {},
   "outputs": [
    {
     "name": "stdout",
     "output_type": "stream",
     "text": [
      "False\n"
     ]
    }
   ],
   "source": [
    "print(hyeyoung_phone.power)"
   ]
  },
  {
   "cell_type": "code",
   "execution_count": null,
   "metadata": {},
   "outputs": [],
   "source": [
    "# 새 폰은 꺼져있으니 켜 봅시다."
   ]
  },
  {
   "cell_type": "code",
   "execution_count": 16,
   "metadata": {
    "scrolled": true
   },
   "outputs": [
    {
     "name": "stdout",
     "output_type": "stream",
     "text": [
      "--------------\n",
      "Samsung Galaxy s10\n",
      "--------------\n"
     ]
    }
   ],
   "source": [
    "hyeyoung_phone.on()"
   ]
  },
  {
   "cell_type": "code",
   "execution_count": null,
   "metadata": {},
   "outputs": [],
   "source": [
    "# 다시 전원 상태를 확인해 봅시다."
   ]
  },
  {
   "cell_type": "code",
   "execution_count": 17,
   "metadata": {},
   "outputs": [
    {
     "name": "stdout",
     "output_type": "stream",
     "text": [
      "True\n"
     ]
    }
   ],
   "source": [
    "print(hyeyoung_phone.power)"
   ]
  },
  {
   "cell_type": "code",
   "execution_count": null,
   "metadata": {},
   "outputs": [],
   "source": [
    "# 폰의 모델명을 확인해 봅시다."
   ]
  },
  {
   "cell_type": "code",
   "execution_count": 18,
   "metadata": {},
   "outputs": [
    {
     "data": {
      "text/plain": [
       "'Samsung Galaxy s10'"
      ]
     },
     "execution_count": 18,
     "metadata": {},
     "output_type": "execute_result"
    }
   ],
   "source": [
    "hyeyoung_phone.model"
   ]
  },
  {
   "cell_type": "code",
   "execution_count": null,
   "metadata": {},
   "outputs": [],
   "source": [
    "# 모델을 바꿔 봅시다."
   ]
  },
  {
   "cell_type": "code",
   "execution_count": 19,
   "metadata": {},
   "outputs": [],
   "source": [
    "hyeyoung_phone.model = 'iPhone XR'"
   ]
  },
  {
   "cell_type": "code",
   "execution_count": null,
   "metadata": {},
   "outputs": [],
   "source": [
    "# 폰 모델을 다시 확인해 봅시다."
   ]
  },
  {
   "cell_type": "code",
   "execution_count": 20,
   "metadata": {},
   "outputs": [
    {
     "data": {
      "text/plain": [
       "'iPhone XR'"
      ]
     },
     "execution_count": 20,
     "metadata": {},
     "output_type": "execute_result"
    }
   ],
   "source": [
    "hyeyoung_phone.model"
   ]
  },
  {
   "cell_type": "code",
   "execution_count": null,
   "metadata": {},
   "outputs": [],
   "source": [
    "# 폰을 껐다 켜 봅시다."
   ]
  },
  {
   "cell_type": "code",
   "execution_count": 22,
   "metadata": {},
   "outputs": [
    {
     "name": "stdout",
     "output_type": "stream",
     "text": [
      "폰 꺼짐\n",
      "--------------\n",
      "iPhone XR\n",
      "--------------\n"
     ]
    }
   ],
   "source": [
    "hyeyoung_phone.off()\n",
    "\n",
    "hyeyoung_phone.on()"
   ]
  },
  {
   "cell_type": "code",
   "execution_count": null,
   "metadata": {},
   "outputs": [],
   "source": [
    "# justin_phone 이 Phone 클래스의 인스턴스인지 확인해 봅시다."
   ]
  },
  {
   "cell_type": "code",
   "execution_count": 23,
   "metadata": {},
   "outputs": [
    {
     "data": {
      "text/plain": [
       "True"
      ]
     },
     "execution_count": 23,
     "metadata": {},
     "output_type": "execute_result"
    }
   ],
   "source": [
    "isinstance(hyeyoung_phone, Phone)"
   ]
  },
  {
   "cell_type": "code",
   "execution_count": null,
   "metadata": {},
   "outputs": [],
   "source": [
    "# 같은 질문이지만, 다르게 물어 봅시다."
   ]
  },
  {
   "cell_type": "code",
   "execution_count": 24,
   "metadata": {},
   "outputs": [
    {
     "data": {
      "text/plain": [
       "True"
      ]
     },
     "execution_count": 24,
     "metadata": {},
     "output_type": "execute_result"
    }
   ],
   "source": [
    "type(hyeyoung_phone) == Phone"
   ]
  },
  {
   "cell_type": "code",
   "execution_count": null,
   "metadata": {},
   "outputs": [],
   "source": [
    "# type을 확인해봅시다."
   ]
  },
  {
   "cell_type": "code",
   "execution_count": 25,
   "metadata": {},
   "outputs": [
    {
     "data": {
      "text/plain": [
       "__main__.Phone"
      ]
     },
     "execution_count": 25,
     "metadata": {},
     "output_type": "execute_result"
    }
   ],
   "source": [
    "type(hyeyoung_phone)"
   ]
  },
  {
   "cell_type": "code",
   "execution_count": null,
   "metadata": {},
   "outputs": [],
   "source": [
    "# justin_phone 을 출력해 봅시다."
   ]
  },
  {
   "cell_type": "code",
   "execution_count": 26,
   "metadata": {},
   "outputs": [
    {
     "name": "stdout",
     "output_type": "stream",
     "text": [
      "<__main__.Phone object at 0x000001EEF71924C8>\n"
     ]
    }
   ],
   "source": [
    "print(hyeyoung_phone) #Phone이라는 class의 객체"
   ]
  },
  {
   "cell_type": "code",
   "execution_count": null,
   "metadata": {},
   "outputs": [],
   "source": [
    "# justin_phone 을 다르게 볼까요?"
   ]
  },
  {
   "cell_type": "code",
   "execution_count": 27,
   "metadata": {},
   "outputs": [
    {
     "data": {
      "text/plain": [
       "<__main__.Phone at 0x1eef71924c8>"
      ]
     },
     "execution_count": 27,
     "metadata": {},
     "output_type": "execute_result"
    }
   ],
   "source": [
    "hyeyoung_phone"
   ]
  },
  {
   "cell_type": "code",
   "execution_count": null,
   "metadata": {},
   "outputs": [],
   "source": [
    "# python 출력의 비밀 __repr__과 __str__\n",
    "# 특정 객체를 print() 할때 보이는 값과 \n",
    "# 그냥 객체 자체를 보여주는 값도 사실 모두 우리가 직접 바꿀 수 있습니다."
   ]
  },
  {
   "cell_type": "code",
   "execution_count": null,
   "metadata": {},
   "outputs": [],
   "source": [
    "# 만들어 볼까요?"
   ]
  },
  {
   "cell_type": "code",
   "execution_count": 28,
   "metadata": {},
   "outputs": [],
   "source": [
    "class Phone:\n",
    "    power = False\n",
    "    book = {}\n",
    "    model = 'Samsung'\n",
    "    \n",
    "    def on(self):\n",
    "        if not self.power:\n",
    "            self.power = True\n",
    "            print('-----------')\n",
    "            print(f'{self.model}')\n",
    "            print('-----------')\n",
    "            \n",
    "    def off(self):\n",
    "        if self.power:\n",
    "            self.power = False\n",
    "            print('폰 꺼짐')\n",
    "            \n",
    "    def __str__(self):\n",
    "        return 'print 안에 넣으면 이렇게 나와요'\n",
    "    \n",
    "    def __repr__(self):\n",
    "        return '그냥 객체만 놔두면 이렇게 나오지용' #print 안하고 해당 객체를 그냥 실행\n",
    "    "
   ]
  },
  {
   "cell_type": "code",
   "execution_count": 31,
   "metadata": {},
   "outputs": [
    {
     "data": {
      "text/plain": [
       "그냥 객체만 놔두면 이렇게 나오지용"
      ]
     },
     "execution_count": 31,
     "metadata": {},
     "output_type": "execute_result"
    }
   ],
   "source": [
    "p = Phone()\n",
    "p # 객체 자체를 출력하는 경우 -> __repr__ 호출됨"
   ]
  },
  {
   "cell_type": "code",
   "execution_count": 32,
   "metadata": {
    "scrolled": true
   },
   "outputs": [
    {
     "name": "stdout",
     "output_type": "stream",
     "text": [
      "print 안에 넣으면 이렇게 나와요\n"
     ]
    }
   ],
   "source": [
    "print(p) # print 함수를 사용하여 출력하는 경우 -> __str__ 호출(사람이 보기 좋게 출력)"
   ]
  },
  {
   "cell_type": "code",
   "execution_count": null,
   "metadata": {},
   "outputs": [],
   "source": [
    "# 이름 앞에 __가 붙어있으면 스페셜/매직 method라고 함"
   ]
  },
  {
   "cell_type": "markdown",
   "metadata": {},
   "source": [
    "## MyList 만들기\n",
    "\n",
    "> 이제 배운 것을 활용하여 나만의 리스트 객체를 만들 수 있습니다. \n",
    ">\n",
    "> `class MyList:`\n",
    ">\n",
    "\n",
    "```\n",
    "* 클래스 변수\n",
    "data : 비어 있는 리스트\n",
    "\n",
    "* 메서드 \n",
    "`append()` : 값을 받아 data 에 추가합니다. 리턴 값은 없습니다.\n",
    "`pop()` : 마지막에 있는 값을 삭제하고, 해당 값을 리턴합니다.\n",
    "`reverse()` : 제자리에서 뒤집고 리턴 값은 없습니다.\n",
    "`count()` : data의 길이(개수)를 리턴합니다.\n",
    "`clear()` : 값을 모두 삭제합니다. 리턴값은 없습니다.\n",
    "\n",
    "`__repr__()` : ex) '내 리스트에는 [1, 2, 3] 이 담겨있다.'\n",
    "```"
   ]
  },
  {
   "cell_type": "code",
   "execution_count": null,
   "metadata": {},
   "outputs": [],
   "source": [
    "# 아래에 코드를 작성해주세요."
   ]
  },
  {
   "cell_type": "code",
   "execution_count": null,
   "metadata": {},
   "outputs": [],
   "source": [
    "class MyList:\n",
    "    data = []\n",
    "    def append(self, n):\n",
    "        self.data = self.data + [n]\n",
    "    \n",
    "    def pop(self):\n",
    "        date = date.remove(date[-1])\n",
    "        return date[-1]\n",
    "        \n",
    "    def reverse(self):\n",
    "        data = data[::-1]\n",
    "            \n",
    "    def count(self):\n",
    "        \n",
    "        "
   ]
  },
  {
   "cell_type": "code",
   "execution_count": 34,
   "metadata": {},
   "outputs": [
    {
     "name": "stdout",
     "output_type": "stream",
     "text": [
      "[3, 21, 1]\n"
     ]
    }
   ],
   "source": [
    " a = [1, 21, 3]\n",
    "\n",
    "b = a[::-1]\n",
    "print(b)"
   ]
  },
  {
   "cell_type": "code",
   "execution_count": 2,
   "metadata": {},
   "outputs": [],
   "source": [
    "# 쓰앵님 풀이\n",
    "class MyList:\n",
    "        \n",
    "    def __init__(self):\n",
    "        self.data = []\n",
    "    \n",
    "    def append(self, n):\n",
    "        self.data += [n]\n",
    "        \n",
    "    def pop(self):\n",
    "        p = self.data[-1]\n",
    "        self.data = self.data[:-1] # slicing : 처음부터 마지막까지 자르기\n",
    "        return p\n",
    "    \n",
    "    def reverse(self):\n",
    "        self.data = self.data[::-1]\n",
    "        \n",
    "    def count(self):\n",
    "        return len(self.data)\n",
    "    \n",
    "    def clear(self):\n",
    "        self.data = []\n",
    "        \n",
    "    def __repr__(self):\n",
    "        return f'내 리스트에는 {self.data}(이)가 담겨있습니다.'\n",
    "    \n",
    "    \n",
    "        "
   ]
  },
  {
   "cell_type": "code",
   "execution_count": 3,
   "metadata": {},
   "outputs": [],
   "source": [
    "li = MyList()\n",
    "li2 = MyList()"
   ]
  },
  {
   "cell_type": "code",
   "execution_count": 4,
   "metadata": {},
   "outputs": [],
   "source": [
    "li.append(1)\n",
    "li.append(2)\n",
    "li.append(3)\n",
    "li2.append(4)\n",
    "li2.append(6)\n",
    "li2.append(5)\n"
   ]
  },
  {
   "cell_type": "code",
   "execution_count": 5,
   "metadata": {},
   "outputs": [
    {
     "data": {
      "text/plain": [
       "내 리스트에는 [1, 2, 3](이)가 담겨있습니다."
      ]
     },
     "execution_count": 5,
     "metadata": {},
     "output_type": "execute_result"
    }
   ],
   "source": [
    "li"
   ]
  },
  {
   "cell_type": "code",
   "execution_count": 6,
   "metadata": {},
   "outputs": [
    {
     "data": {
      "text/plain": [
       "내 리스트에는 [4, 6, 5](이)가 담겨있습니다."
      ]
     },
     "execution_count": 6,
     "metadata": {},
     "output_type": "execute_result"
    }
   ],
   "source": [
    "li2"
   ]
  },
  {
   "cell_type": "code",
   "execution_count": 124,
   "metadata": {},
   "outputs": [
    {
     "data": {
      "text/plain": [
       "내 리스트에는 [](이)가 담겨있습니다."
      ]
     },
     "execution_count": 124,
     "metadata": {},
     "output_type": "execute_result"
    }
   ],
   "source": [
    "v = MyList()\n",
    "v\n"
   ]
  },
  {
   "cell_type": "code",
   "execution_count": 132,
   "metadata": {},
   "outputs": [
    {
     "data": {
      "text/plain": [
       "내 리스트에는 [9, 9, 9, 9, 9, 9](이)가 담겨있습니다."
      ]
     },
     "execution_count": 132,
     "metadata": {},
     "output_type": "execute_result"
    }
   ],
   "source": [
    "v.append(9)\n",
    "v"
   ]
  },
  {
   "cell_type": "code",
   "execution_count": 33,
   "metadata": {},
   "outputs": [
    {
     "name": "stdout",
     "output_type": "stream",
     "text": [
      "[1, 2, 3, 4]\n"
     ]
    }
   ],
   "source": [
    "a = [1, 2, 3]\n",
    "result = a+[4] \n",
    "print(result)"
   ]
  },
  {
   "cell_type": "code",
   "execution_count": null,
   "metadata": {},
   "outputs": [],
   "source": [
    "# 확인해 봅시다. 각 해당 셀을 두번 이상 실행하면 이상하게 동작합니다. Python Tutor 에서 확인해 봅시다.\n",
    "# (모든 객체의 data 가 같은 리스트를 참조합니다.)"
   ]
  },
  {
   "cell_type": "code",
   "execution_count": 45,
   "metadata": {},
   "outputs": [
    {
     "data": {
      "text/plain": [
       "내 리스트에는 [1, 2, 3]가 담겨있습니다."
      ]
     },
     "execution_count": 45,
     "metadata": {},
     "output_type": "execute_result"
    }
   ],
   "source": [
    "ml = MyList()\n",
    "ml"
   ]
  },
  {
   "cell_type": "code",
   "execution_count": 46,
   "metadata": {},
   "outputs": [],
   "source": [
    "# ml(인스턴스)의 이름공간에는 아직 data 속성이 없음\n",
    "\n",
    "ml.append(1)"
   ]
  },
  {
   "cell_type": "code",
   "execution_count": 47,
   "metadata": {
    "scrolled": true
   },
   "outputs": [
    {
     "data": {
      "text/plain": [
       "내 리스트에는 [1, 2, 3, 1]가 담겨있습니다."
      ]
     },
     "execution_count": 47,
     "metadata": {},
     "output_type": "execute_result"
    }
   ],
   "source": [
    "ml"
   ]
  },
  {
   "cell_type": "code",
   "execution_count": 48,
   "metadata": {},
   "outputs": [
    {
     "data": {
      "text/plain": [
       "내 리스트에는 [1, 2, 3, 1, 2]가 담겨있습니다."
      ]
     },
     "execution_count": 48,
     "metadata": {},
     "output_type": "execute_result"
    }
   ],
   "source": [
    "ml.append(2)\n",
    "ml"
   ]
  },
  {
   "cell_type": "code",
   "execution_count": 49,
   "metadata": {},
   "outputs": [
    {
     "data": {
      "text/plain": [
       "내 리스트에는 [1, 2, 3, 1, 2, 3]가 담겨있습니다."
      ]
     },
     "execution_count": 49,
     "metadata": {},
     "output_type": "execute_result"
    }
   ],
   "source": [
    "ml.append(3)\n",
    "ml"
   ]
  },
  {
   "cell_type": "code",
   "execution_count": 50,
   "metadata": {},
   "outputs": [
    {
     "data": {
      "text/plain": [
       "내 리스트에는 [3, 2, 1, 3, 2, 1]가 담겨있습니다."
      ]
     },
     "execution_count": 50,
     "metadata": {},
     "output_type": "execute_result"
    }
   ],
   "source": [
    "ml.reverse()\n",
    "ml"
   ]
  },
  {
   "cell_type": "code",
   "execution_count": 51,
   "metadata": {
    "scrolled": true
   },
   "outputs": [
    {
     "name": "stdout",
     "output_type": "stream",
     "text": [
      "1\n"
     ]
    },
    {
     "data": {
      "text/plain": [
       "내 리스트에는 [3, 2, 1, 3, 2]가 담겨있습니다."
      ]
     },
     "execution_count": 51,
     "metadata": {},
     "output_type": "execute_result"
    }
   ],
   "source": [
    "print(ml.pop())\n",
    "ml"
   ]
  },
  {
   "cell_type": "code",
   "execution_count": 52,
   "metadata": {},
   "outputs": [
    {
     "data": {
      "text/plain": [
       "5"
      ]
     },
     "execution_count": 52,
     "metadata": {},
     "output_type": "execute_result"
    }
   ],
   "source": [
    "ml.count()"
   ]
  },
  {
   "cell_type": "code",
   "execution_count": 53,
   "metadata": {},
   "outputs": [
    {
     "data": {
      "text/plain": [
       "내 리스트에는 []가 담겨있습니다."
      ]
     },
     "execution_count": 53,
     "metadata": {},
     "output_type": "execute_result"
    }
   ],
   "source": [
    "ml.clear()\n",
    "ml"
   ]
  },
  {
   "cell_type": "markdown",
   "metadata": {},
   "source": [
    "## 용어 정리\n",
    "\n",
    "```python\n",
    "class Person:                     #=> 클래스 정의(선언) : 클래스 객체 생성\n",
    "    name = 'unknown'              #=> 멤버 변수(data attribute)\n",
    "    def greeting(self):           #=> 멤버 메서드(메서드)\n",
    "        return f'{self.name}' \n",
    "```\n",
    "    \n",
    "    \n",
    "```python\n",
    "richard = Person()      # 인스턴스 객체 생성\n",
    "tim = Person()          # 인스턴스 객체 생성\n",
    "tim.name                # 인스턴스의 변수(속성) 호출\n",
    "tim.greeting()          # 인스턴스로 메서드 호출\n",
    "```\n",
    "\n",
    "- 참고\n",
    "    - 멤버 변수(클래스 / 인스턴스의 멤버를 의미)\n",
    "        - 클래스 변수: Class Variable shared by all instances\n",
    "        - 인스턴스 변수: Instance variable unique each instance"
   ]
  },
  {
   "cell_type": "code",
   "execution_count": null,
   "metadata": {},
   "outputs": [],
   "source": [
    "# Person을 만들어봅시다."
   ]
  },
  {
   "cell_type": "code",
   "execution_count": 54,
   "metadata": {},
   "outputs": [],
   "source": [
    "class Person:\n",
    "    name = 'unknown'# 클래스 변수\n",
    "    \n",
    "    def greeting(self): # (멤버)메서드\n",
    "        return f'hello! {self.name}'"
   ]
  },
  {
   "cell_type": "code",
   "execution_count": 56,
   "metadata": {},
   "outputs": [
    {
     "data": {
      "text/plain": [
       "'hello! unknown'"
      ]
     },
     "execution_count": 56,
     "metadata": {},
     "output_type": "execute_result"
    }
   ],
   "source": [
    "p1 = Person() #p1 인스턴스 생성\n",
    "p1.greeting() #p1 인스턴스로 greeting 메서드 호출"
   ]
  },
  {
   "cell_type": "code",
   "execution_count": null,
   "metadata": {},
   "outputs": [],
   "source": [
    "# 클래스와 인스턴스간의 관계를 확인해 봅시다."
   ]
  },
  {
   "cell_type": "code",
   "execution_count": 57,
   "metadata": {},
   "outputs": [
    {
     "data": {
      "text/plain": [
       "True"
      ]
     },
     "execution_count": 57,
     "metadata": {},
     "output_type": "execute_result"
    }
   ],
   "source": [
    "isinstance(p1, Person)"
   ]
  },
  {
   "cell_type": "markdown",
   "metadata": {},
   "source": [
    "##  `self` : 인스턴스 객체 자기자신\n",
    "\n",
    "* C++ 혹은 자바에서의 this 키워드와 동일함. \n",
    "\n",
    "* 특별한 상황을 제외하고는 **무조건 메서드에서 `self`를 첫번째 인자로 설정한다.**\n",
    "\n",
    "* 메서드는 인스턴스 객체가 함수의 첫번째 인자로 전달되도록 되어있다.\n",
    "    - 인스턴스로 메서드를 호출할 때 인스턴스 자기 자신을 메서드의 첫번째 인자로 넘긴다."
   ]
  },
  {
   "cell_type": "code",
   "execution_count": null,
   "metadata": {},
   "outputs": [],
   "source": [
    "# p1 의 이름을 자기 이름으로 바꾸고 다시 인사해 봅시다."
   ]
  },
  {
   "cell_type": "code",
   "execution_count": 59,
   "metadata": {},
   "outputs": [
    {
     "data": {
      "text/plain": [
       "'hello! hyeyoung'"
      ]
     },
     "execution_count": 59,
     "metadata": {},
     "output_type": "execute_result"
    }
   ],
   "source": [
    "p1.name = 'hyeyoung' #p1 인스턴스의 이름공간의 변수(속성)에 'hyeyoung'생성 -> 인스턴스 변수\n",
    "p1.greeting()"
   ]
  },
  {
   "cell_type": "code",
   "execution_count": null,
   "metadata": {},
   "outputs": [],
   "source": [
    "# 아까부터 궁금했던, 메서드 1번 인자 self 는 어디에 있는걸까요?\n",
    "# 실제로 이렇게 쓰지는 않지만 어떤 의미로는 이 코드가 더 직관적일 거에요."
   ]
  },
  {
   "cell_type": "code",
   "execution_count": 60,
   "metadata": {},
   "outputs": [
    {
     "data": {
      "text/plain": [
       "'hello! hyeyoung'"
      ]
     },
     "execution_count": 60,
     "metadata": {},
     "output_type": "execute_result"
    }
   ],
   "source": [
    "Person.greeting(p1)"
   ]
  },
  {
   "cell_type": "markdown",
   "metadata": {},
   "source": [
    "## 클래스-인스턴스간의 이름공간\n",
    "\n",
    "* 클래스를 정의하면, 클래스 객체가 생성되고 해당되는 이름 공간이 생성된다. \n",
    "\n",
    "* 인스턴스를 만들게 되면, 인스턴스 객체가 생성되고 해당되는 이름 공간이 생성된다. \n",
    "\n",
    "* 인스턴스의 어트리뷰트(변수)가 변경되면, 변경된 데이터를 인스턴스 객체 이름 공간에 저장한다.\n",
    "\n",
    "* 즉, 인스턴스에서 특정한 어트리뷰트에 접근하게 되면 인스턴스 => 클래스 순으로 탐색을 한다.\n",
    "    - 인스턴스에서 못찾으면 클래스에서 찾는다!"
   ]
  },
  {
   "cell_type": "code",
   "execution_count": null,
   "metadata": {},
   "outputs": [],
   "source": [
    "# 클래스 선언코드에서 메서드를 정의할 때, 왜 self 를 꼭 써준걸까요?"
   ]
  },
  {
   "cell_type": "code",
   "execution_count": 63,
   "metadata": {},
   "outputs": [],
   "source": [
    "class Person:\n",
    "    name = 'abc'\n",
    "    \n",
    "    def greeting(self):\n",
    "        return f'My name is {name}'"
   ]
  },
  {
   "cell_type": "code",
   "execution_count": null,
   "metadata": {},
   "outputs": [],
   "source": [
    "# 아래에서 확인해 봅시다."
   ]
  },
  {
   "cell_type": "code",
   "execution_count": 64,
   "metadata": {},
   "outputs": [
    {
     "ename": "NameError",
     "evalue": "name 'name' is not defined",
     "output_type": "error",
     "traceback": [
      "\u001b[1;31m---------------------------------------------------------------------------\u001b[0m",
      "\u001b[1;31mNameError\u001b[0m                                 Traceback (most recent call last)",
      "\u001b[1;32m<ipython-input-64-40d8a5a9f0cf>\u001b[0m in \u001b[0;36m<module>\u001b[1;34m\u001b[0m\n\u001b[0;32m      1\u001b[0m \u001b[0mp2\u001b[0m \u001b[1;33m=\u001b[0m \u001b[0mPerson\u001b[0m\u001b[1;33m(\u001b[0m\u001b[1;33m)\u001b[0m\u001b[1;33m\u001b[0m\u001b[1;33m\u001b[0m\u001b[0m\n\u001b[1;32m----> 2\u001b[1;33m \u001b[0mp2\u001b[0m\u001b[1;33m.\u001b[0m\u001b[0mgreeting\u001b[0m\u001b[1;33m(\u001b[0m\u001b[1;33m)\u001b[0m \u001b[1;31m# 왜 name을 찾으러 class 변수를 찾으러 안가지?\u001b[0m\u001b[1;33m\u001b[0m\u001b[1;33m\u001b[0m\u001b[0m\n\u001b[0m",
      "\u001b[1;32m<ipython-input-63-b2522b241da7>\u001b[0m in \u001b[0;36mgreeting\u001b[1;34m(self)\u001b[0m\n\u001b[0;32m      3\u001b[0m \u001b[1;33m\u001b[0m\u001b[0m\n\u001b[0;32m      4\u001b[0m     \u001b[1;32mdef\u001b[0m \u001b[0mgreeting\u001b[0m\u001b[1;33m(\u001b[0m\u001b[0mself\u001b[0m\u001b[1;33m)\u001b[0m\u001b[1;33m:\u001b[0m\u001b[1;33m\u001b[0m\u001b[1;33m\u001b[0m\u001b[0m\n\u001b[1;32m----> 5\u001b[1;33m         \u001b[1;32mreturn\u001b[0m \u001b[1;34mf'My name is {name}'\u001b[0m\u001b[1;33m\u001b[0m\u001b[1;33m\u001b[0m\u001b[0m\n\u001b[0m",
      "\u001b[1;31mNameError\u001b[0m: name 'name' is not defined"
     ]
    }
   ],
   "source": [
    "p2 = Person()\n",
    "p2.greeting() # 왜 name을 찾으러 class 변수를 찾으러 안가지?"
   ]
  },
  {
   "cell_type": "code",
   "execution_count": null,
   "metadata": {},
   "outputs": [],
   "source": [
    "# 함수 scope 를 다시한번 짚고 넘어갑시다."
   ]
  },
  {
   "cell_type": "code",
   "execution_count": 65,
   "metadata": {},
   "outputs": [
    {
     "data": {
      "text/plain": [
       "'abc'"
      ]
     },
     "execution_count": 65,
     "metadata": {},
     "output_type": "execute_result"
    }
   ],
   "source": [
    "p2.name\n",
    "\n",
    "# p2 인스턴스 본인 안에서 name을 찾고 없네? 그래서 class로 갑니다. 오 name찾음"
   ]
  },
  {
   "cell_type": "code",
   "execution_count": null,
   "metadata": {},
   "outputs": [],
   "source": [
    "# 다시, 클래스 선언코드에서 메서드를 정의할 때, 왜 self 를 꼭 써준걸까요?"
   ]
  },
  {
   "cell_type": "code",
   "execution_count": 66,
   "metadata": {},
   "outputs": [],
   "source": [
    "class Person:\n",
    "    name = 'abc'\n",
    "    \n",
    "    def greeting(self):\n",
    "        return f'My name is {self.name}'"
   ]
  },
  {
   "cell_type": "code",
   "execution_count": null,
   "metadata": {},
   "outputs": [],
   "source": [
    "# 아래에서 확인해 봅시다."
   ]
  },
  {
   "cell_type": "code",
   "execution_count": 67,
   "metadata": {},
   "outputs": [
    {
     "data": {
      "text/plain": [
       "'My name is abc'"
      ]
     },
     "execution_count": 67,
     "metadata": {},
     "output_type": "execute_result"
    }
   ],
   "source": [
    "p2 = Person()\n",
    "p2.greeting()"
   ]
  },
  {
   "cell_type": "code",
   "execution_count": null,
   "metadata": {},
   "outputs": [],
   "source": [
    "# 아래에서 p2 객체에게 이름을 지어 줍시다."
   ]
  },
  {
   "cell_type": "code",
   "execution_count": 68,
   "metadata": {},
   "outputs": [
    {
     "data": {
      "text/plain": [
       "'혜용이'"
      ]
     },
     "execution_count": 68,
     "metadata": {},
     "output_type": "execute_result"
    }
   ],
   "source": [
    "p2.name = '혜용이' \n",
    "p2.name #인스턴스 내부에서 찾는다 -> 있다!!!"
   ]
  },
  {
   "cell_type": "code",
   "execution_count": null,
   "metadata": {
    "scrolled": true
   },
   "outputs": [],
   "source": [
    "# python tutor 를 통해 확인해 봅시다.\n",
    "IFrame('http://bit.do/oop_instro_00', width='100%', height='500px')"
   ]
  },
  {
   "cell_type": "markdown",
   "metadata": {},
   "source": [
    "## 생성자 / 소멸자\n",
    "\n",
    "* 생성자는 인스턴스 객체가 생성될 때 호출되는 함수이며, 소멸자는 객체가 소멸되는 과정에서 호출되는 함수입니다.\n",
    "\n",
    "```python\n",
    "def __init__(self):\n",
    "    print('생성될 때 자동으로 호출되는 메서드입니다.')\n",
    "    \n",
    "def __del__(self):\n",
    "    print('소멸될 때 자동으로 호출되는 메서드입니다.')\n",
    "```\n",
    "\n",
    "```\n",
    "__someting__\n",
    "```\n",
    "\n",
    "위의 형식처럼 양쪽에 언더스코어가 있는 메서드를 `스페셜 메서드` 혹은 `매직 메서드`라고 불립니다."
   ]
  },
  {
   "cell_type": "code",
   "execution_count": null,
   "metadata": {},
   "outputs": [],
   "source": [
    "# 생성자와 소멸자를 만들어봅시다."
   ]
  },
  {
   "cell_type": "code",
   "execution_count": 72,
   "metadata": {},
   "outputs": [],
   "source": [
    "class Person:\n",
    "    def __init__(self):\n",
    "        print('응애')\n",
    "        \n",
    "    def __del__(self):\n",
    "        print('끡')"
   ]
  },
  {
   "cell_type": "code",
   "execution_count": null,
   "metadata": {},
   "outputs": [],
   "source": [
    "# Person 클래스로부터 새로운 인스턴스 객체를 생성해 봅시다."
   ]
  },
  {
   "cell_type": "code",
   "execution_count": 73,
   "metadata": {},
   "outputs": [
    {
     "name": "stdout",
     "output_type": "stream",
     "text": [
      "응애\n"
     ]
    }
   ],
   "source": [
    "p3 = Person()"
   ]
  },
  {
   "cell_type": "code",
   "execution_count": null,
   "metadata": {},
   "outputs": [],
   "source": [
    "# 생성된 인스턴스 객체를 소멸시켜 봅시다."
   ]
  },
  {
   "cell_type": "code",
   "execution_count": 74,
   "metadata": {},
   "outputs": [
    {
     "name": "stdout",
     "output_type": "stream",
     "text": [
      "끡\n"
     ]
    }
   ],
   "source": [
    "del p3"
   ]
  },
  {
   "cell_type": "code",
   "execution_count": null,
   "metadata": {},
   "outputs": [],
   "source": [
    "# 생성자 역시 메서드(함수)기 때문에 추가인자를 받을 수 있습니다."
   ]
  },
  {
   "cell_type": "code",
   "execution_count": 75,
   "metadata": {},
   "outputs": [],
   "source": [
    "class Person:\n",
    "    def __init__(self, name): #생성자 함수\n",
    "        self.name = name\n",
    "        print(f'응애! 나는 {self.name}')\n",
    "        \n",
    "    def __del__(self): #소멸자 함수\n",
    "        print(f'{self.name}은(는) 떠난다 빠잉')"
   ]
  },
  {
   "cell_type": "code",
   "execution_count": null,
   "metadata": {},
   "outputs": [],
   "source": [
    "# 생성과 동시에 인스턴스 변수에 값을 할당합니다."
   ]
  },
  {
   "cell_type": "code",
   "execution_count": 83,
   "metadata": {},
   "outputs": [
    {
     "name": "stdout",
     "output_type": "stream",
     "text": [
      "응애! 나는 shy\n",
      "shy은(는) 떠난다 빠잉\n"
     ]
    }
   ],
   "source": [
    "p1 = Person('shy')\n",
    "\n",
    "del p1"
   ]
  },
  {
   "cell_type": "code",
   "execution_count": 80,
   "metadata": {},
   "outputs": [
    {
     "name": "stdout",
     "output_type": "stream",
     "text": [
      "응애! 나는 싸피\n",
      "혜영은(는) 떠난다 빠잉\n",
      "싸피\n",
      "-----------------\n",
      "응애! 나는 혜영\n",
      "싸피은(는) 떠난다 빠잉\n",
      "혜영\n"
     ]
    }
   ],
   "source": [
    "me = Person('싸피')\n",
    "print(me.name)\n",
    "print('-----------------')\n",
    "\n",
    "me = Person('혜영')\n",
    "print(me.name)"
   ]
  },
  {
   "cell_type": "markdown",
   "metadata": {},
   "source": [
    "## 실습 (종합)\n",
    "\n",
    "> 사실 이전에 작성한 Mylist는 완벽하지 않았습니다. \n",
    ">\n",
    "> 한번 제대로 된 자료구조를 만들어보겠습니다. \n",
    ">\n",
    "> `Stack` 클래스를 간략하게 구현해봅시다.\n",
    "\n",
    "> [Stack](https://ko.wikipedia.org/wiki/%EC%8A%A4%ED%83%9D) : 스택은 LIFO(Last in First Out)으로 구조화된 자료구조를 뜻합니다.\n",
    "\n",
    "1. `empty()`: 스택이 비었다면 True을 주고, 그렇지 않다면 False가 된다.\n",
    "\n",
    "2. `top()`: 스택의 가장 마지막 데이터를 넘겨준다. 스택이 비었다면 None을 리턴한다.\n",
    "\n",
    "3. `pop()`: 스택의 가장 마지막 데이터의 값을 넘겨주고, 해당 데이터를 삭제한다. 스택이 비었다면 None을 리턴한다.\n",
    "\n",
    "4. `push()`: 스택의 가장 마지막 데이터 뒤에 값을 추가한다. 리턴 값은 없다.\n",
    "\n",
    "**다 작성했다면 __repr__ 을 통해 예쁘게 출력까지 해봅시다.**"
   ]
  },
  {
   "cell_type": "code",
   "execution_count": null,
   "metadata": {},
   "outputs": [],
   "source": [
    "# 여기에 코드를 작성해주세요."
   ]
  },
  {
   "cell_type": "code",
   "execution_count": 7,
   "metadata": {},
   "outputs": [],
   "source": [
    "# 190725\n",
    "# 스앵님 풀이!\n",
    "class Stack:\n",
    "    def __init__(self):\n",
    "        self.items = []\n",
    "        \n",
    "    def empty(self):\n",
    "        return not bool(self.items)\n",
    "    \n",
    "    def top(self):\n",
    "        if self.items:\n",
    "            return self.items[-1]\n",
    "        \n",
    "    def pop(self):\n",
    "        if not self.empty():\n",
    "            return self.items.pop()\n",
    "        \n",
    "    def push(self, elem):\n",
    "        self.items.append(elem)\n",
    "        \n",
    "    def __repr__(self):\n",
    "        return '\\n'.join(map(str, self.items))        "
   ]
  },
  {
   "cell_type": "code",
   "execution_count": 8,
   "metadata": {},
   "outputs": [
    {
     "data": {
      "text/plain": [
       "True"
      ]
     },
     "execution_count": 8,
     "metadata": {},
     "output_type": "execute_result"
    }
   ],
   "source": [
    "st = Stack()\n",
    "st.empty()"
   ]
  },
  {
   "cell_type": "code",
   "execution_count": 9,
   "metadata": {},
   "outputs": [
    {
     "name": "stdout",
     "output_type": "stream",
     "text": [
      "None\n"
     ]
    }
   ],
   "source": [
    "print(st.top())"
   ]
  },
  {
   "cell_type": "code",
   "execution_count": 10,
   "metadata": {},
   "outputs": [
    {
     "name": "stdout",
     "output_type": "stream",
     "text": [
      "None\n"
     ]
    }
   ],
   "source": [
    "st.pop()\n",
    "print(st.pop())"
   ]
  },
  {
   "cell_type": "code",
   "execution_count": 11,
   "metadata": {},
   "outputs": [
    {
     "data": {
      "text/plain": [
       "[1]"
      ]
     },
     "execution_count": 11,
     "metadata": {},
     "output_type": "execute_result"
    }
   ],
   "source": [
    "st.push(1)\n",
    "st.items"
   ]
  },
  {
   "cell_type": "code",
   "execution_count": 12,
   "metadata": {},
   "outputs": [
    {
     "data": {
      "text/plain": [
       "False"
      ]
     },
     "execution_count": 12,
     "metadata": {},
     "output_type": "execute_result"
    }
   ],
   "source": [
    "st.empty()"
   ]
  },
  {
   "cell_type": "code",
   "execution_count": 13,
   "metadata": {},
   "outputs": [
    {
     "data": {
      "text/plain": [
       "[1, 1, 3, 5, 7]"
      ]
     },
     "execution_count": 13,
     "metadata": {},
     "output_type": "execute_result"
    }
   ],
   "source": [
    "st.push(1)\n",
    "st.push(3)\n",
    "st.push(5)\n",
    "st.push(7)\n",
    "st.items"
   ]
  },
  {
   "cell_type": "code",
   "execution_count": 14,
   "metadata": {},
   "outputs": [
    {
     "data": {
      "text/plain": [
       "1\n",
       "1\n",
       "3\n",
       "5\n",
       "7"
      ]
     },
     "execution_count": 14,
     "metadata": {},
     "output_type": "execute_result"
    }
   ],
   "source": [
    "st"
   ]
  },
  {
   "cell_type": "code",
   "execution_count": 15,
   "metadata": {},
   "outputs": [
    {
     "name": "stdout",
     "output_type": "stream",
     "text": [
      "1\n",
      "1\n",
      "3\n",
      "5\n"
     ]
    }
   ],
   "source": [
    "st.pop()\n",
    "print(st)"
   ]
  },
  {
   "cell_type": "code",
   "execution_count": 35,
   "metadata": {},
   "outputs": [],
   "source": [
    "# 혜여이 풀이....다 못햇쪄....ㅜㅜ\n",
    "\n",
    "class Stack:\n",
    "    def __init__(self):\n",
    "        self.data = []\n",
    "        \n",
    "    def empty(self):\n",
    "        if self.data == []:\n",
    "            return True\n",
    "        else:\n",
    "            return False\n",
    "        \n",
    "    def top(self):\n",
    "        if self.data == []:\n",
    "            return None\n",
    "        else:\n",
    "            last = self.data[-1]\n",
    "            return last\n",
    "    \n",
    "    def pop(self):\n",
    "        if self.data == []:\n",
    "            return None\n",
    "        else:\n",
    "            p = self.data[-1]\n",
    "            self.data = self.data[:-1]\n",
    "            return p\n",
    "\n",
    "    "
   ]
  },
  {
   "cell_type": "code",
   "execution_count": 36,
   "metadata": {},
   "outputs": [
    {
     "data": {
      "text/plain": [
       "True"
      ]
     },
     "execution_count": 36,
     "metadata": {},
     "output_type": "execute_result"
    }
   ],
   "source": [
    "stst = Stack()\n",
    "stst.empty()"
   ]
  },
  {
   "cell_type": "markdown",
   "metadata": {},
   "source": [
    "## 포켓몬 구현하기\n",
    "\n",
    "> 피카츄를 클래스-인스턴스로 구현해 봅시다. 게임을 만든다면 아래와 같이 먼저 기획을 하고 코드로 구현하게 됩니다.\n",
    "우선 아래와 같이 구현해 보고, 추가로 본인이 원하는 대로 구현 및 수정해 봅시다.\n",
    "\n",
    "모든 피카츄는 다음과 같은 속성을 갖습니다.\n",
    "* `name`: 이름\n",
    "* `level`: 레벨\n",
    "    * 레벨은 시작할 때 모두 5 입니다.\n",
    "* `hp`: 체력\n",
    "    * 체력은 `level` * 20 입니다.\n",
    "* `exp`: 경험치\n",
    "    * 상대방을 쓰러뜨리면 상대방 `level` * 15 를 획득합니다.\n",
    "    * 경험치는 `level` * 100 이 되면, 레벨이 하나 올라가고 0부터 추가 됩니다. \n",
    "\n",
    "모든 피카츄는 다음과 같은 행동(메서드)을 할 수 있습니다.\n",
    "* `bark()`: 울기. `'pikachu'` 를 출력합니다.\n",
    "* `body_attack()`: 몸통박치기. 상대방의 hp 를 내 `level` * 5 만큼 차감합니다.\n",
    "* `thousond_volt()`: 십만볼트. 상대방의 hp 를 내 `level` * 7 만큼 차감합니다."
   ]
  },
  {
   "cell_type": "code",
   "execution_count": null,
   "metadata": {},
   "outputs": [],
   "source": [
    "# 아래에 코드를 작성해주세요."
   ]
  },
  {
   "cell_type": "code",
   "execution_count": 69,
   "metadata": {},
   "outputs": [],
   "source": [
    "class Pikachu:\n",
    "    \n",
    "    def __init__(self, name, level=5):\n",
    "        self.name = name\n",
    "        self.level = level\n",
    "        self.hp = level * 20\n",
    "        self.exp = 0\n",
    "\n",
    "            \n",
    "    def bark(self):\n",
    "        print('pikachu')\n",
    "    \n",
    "    def body_attack(self, opponent):\n",
    "        opponent.hp - (self.level*5)\n",
    "        if self.exp == self.level * 100:\n",
    "            self.level += 1\n",
    "            self.exp = 0\n",
    "        if opponent.hp == 0:               # 상대방의 hp를 어떻게 표현할 수 있을까... ㅜㅜ\n",
    "            self.exp + (level*15)\n",
    "        \n",
    "    def thousond_volt(self, opponent):\n",
    "        opponent.hp - (self.level*7)\n",
    "        if self.exp == self.level * 100:\n",
    "            self.level += 1\n",
    "            self.exp = 0\n",
    "        if opponent.hp == 0:\n",
    "            self.exp + (level*15)\n",
    "        "
   ]
  },
  {
   "cell_type": "code",
   "execution_count": 70,
   "metadata": {},
   "outputs": [
    {
     "data": {
      "text/plain": [
       "'야'"
      ]
     },
     "execution_count": 70,
     "metadata": {},
     "output_type": "execute_result"
    }
   ],
   "source": [
    "pika = Pikachu('야')\n",
    "pika.name"
   ]
  },
  {
   "cell_type": "code",
   "execution_count": 2,
   "metadata": {},
   "outputs": [],
   "source": [
    "# 스앵님 풀이\n",
    "class Pikachu:\n",
    "    \n",
    "    def __init__(self, name='Pikachu'):\n",
    "        self.name = name\n",
    "        self.level = 5\n",
    "        self.hp = self.level * 20\n",
    "        self.exp = 0\n",
    "    \n",
    "    def check_enemy_hp(self, enemy):\n",
    "        if enemy.hp <= 0:\n",
    "            print(f'{enemy.name}을 물리침!!!!')\n",
    "            self.get_exp(enemy.level)\n",
    "            \n",
    "    def bark(self):\n",
    "        return 'Pikachu!!'\n",
    "    \n",
    "    def body_attack(self, enemy):\n",
    "        if enemy.hp > 0:\n",
    "            damage = self.level * 5\n",
    "            enemy.hp -= damage\n",
    "            self.check_enemy_hp(enemy)\n",
    "            \n",
    "    def thousand_volt(self, enemy):\n",
    "        if enemy.hp > 0:\n",
    "            damage = self.level * 7\n",
    "            enemy.hp -= damage\n",
    "            self.check_enemy_hp(enemy)\n",
    "            \n",
    "    def get_exp(self, level):\n",
    "        self.exp += level * 15\n",
    "        print(f'{level*15}의 경험치를 획득!!!')\n",
    "        print(f'남은 경험치 {self.exp} / {self.level*100}')\n",
    "              \n",
    "        if self.exp >= self.level * 100:\n",
    "              self.exp = self.exp - (self.level * 100)\n",
    "              self.level += 1\n",
    "              print(f'{self.name}의 레벨이 {self.level}이 되었다!!!')\n",
    "              \n",
    "    def __repr__(self):\n",
    "        return f'lv: {self.level} / hp: {self.hp} / exp: {self.exp}'\n",
    "              \n",
    "    \n"
   ]
  },
  {
   "cell_type": "code",
   "execution_count": 3,
   "metadata": {},
   "outputs": [],
   "source": [
    "p1 = Pikachu('승연고')\n",
    "p2 = Pikachu('혜영서')"
   ]
  },
  {
   "cell_type": "code",
   "execution_count": 4,
   "metadata": {},
   "outputs": [
    {
     "name": "stdout",
     "output_type": "stream",
     "text": [
      "-------0라운드-------\n",
      "승연고의 체력: 100\n",
      "혜영서의 체력: 100\n",
      "승연고(이)가 혜영서에게 삐까!!시전!!!! 피해를 주지 못했다.\n",
      "--------대전끝---------\n",
      "\n",
      "-------1라운드-------\n",
      "승연고의 체력: 100\n",
      "혜영서의 체력: 100\n",
      "혜영서(이)가 승연고에게 천만 볼트 시전!!!!\n",
      "--------대전끝---------\n",
      "\n",
      "-------2라운드-------\n",
      "승연고의 체력: 65\n",
      "혜영서의 체력: 100\n",
      "혜영서(이)가 승연고에게 삐까!!시전!!!! 피해를 주지 못했다.\n",
      "--------대전끝---------\n",
      "\n",
      "-------3라운드-------\n",
      "승연고의 체력: 65\n",
      "혜영서의 체력: 100\n",
      "승연고(이)가 혜영서에게 삐까!!시전!!!! 피해를 주지 못했다.\n",
      "--------대전끝---------\n",
      "\n",
      "-------4라운드-------\n",
      "승연고의 체력: 65\n",
      "혜영서의 체력: 100\n",
      "혜영서(이)가 승연고에게 천만 볼트 시전!!!!\n",
      "--------대전끝---------\n",
      "\n",
      "-------5라운드-------\n",
      "승연고의 체력: 30\n",
      "혜영서의 체력: 100\n",
      "혜영서(이)가 승연고에게 삐까!!시전!!!! 피해를 주지 못했다.\n",
      "--------대전끝---------\n",
      "\n",
      "-------6라운드-------\n",
      "승연고의 체력: 30\n",
      "혜영서의 체력: 100\n",
      "혜영서(이)가 승연고에게 몸통 박치기 시전!!!!\n",
      "--------대전끝---------\n",
      "\n",
      "-------7라운드-------\n",
      "승연고의 체력: 5\n",
      "혜영서의 체력: 100\n",
      "승연고(이)가 혜영서에게 몸통 박치기 시전!!!!\n",
      "--------대전끝---------\n",
      "\n",
      "-------8라운드-------\n",
      "승연고의 체력: 5\n",
      "혜영서의 체력: 75\n",
      "혜영서(이)가 승연고에게 삐까!!시전!!!! 피해를 주지 못했다.\n",
      "--------대전끝---------\n",
      "\n",
      "-------9라운드-------\n",
      "승연고의 체력: 5\n",
      "혜영서의 체력: 75\n",
      "승연고(이)가 혜영서에게 천만 볼트 시전!!!!\n",
      "--------대전끝---------\n",
      "\n",
      "-------10라운드-------\n",
      "승연고의 체력: 5\n",
      "혜영서의 체력: 40\n",
      "승연고을 물리침!!!!\n",
      "75의 경험치를 획득!!!\n",
      "남은 경험치 75 / 500\n",
      "혜영서(이)가 승연고에게 몸통 박치기 시전!!!!\n",
      "--------대전끝---------\n",
      "\n"
     ]
    }
   ],
   "source": [
    "import random\n",
    "\n",
    "players = [p1, p2]\n",
    "cnt = 0\n",
    "\n",
    "while players[0].hp >= 0 and players[1].hp >= 0:\n",
    "    print(f'-------{cnt}라운드-------')\n",
    "    print(f'{players[0].name}의 체력: {players[0].hp}')\n",
    "    print(f'{players[1].name}의 체력: {players[1].hp}')\n",
    "    \n",
    "    attacker = random.choice(players)\n",
    "    defencer = players[1] if attacker == players[0] else players[0]\n",
    "    \n",
    "    skill_number = random.randint(0, 2)\n",
    "    \n",
    "    if skill_number == 0:\n",
    "        attacker.bark()\n",
    "        print(f'{attacker.name}(이)가 {defencer.name}에게 삐까!!시전!!!! 피해를 주지 못했다.')\n",
    "    elif skill_number == 1:\n",
    "        attacker.body_attack(defencer)\n",
    "        print(f'{attacker.name}(이)가 {defencer.name}에게 몸통 박치기 시전!!!!')\n",
    "    else:\n",
    "        attacker.thousand_volt(defencer)\n",
    "        print(f'{attacker.name}(이)가 {defencer.name}에게 천만 볼트 시전!!!!')\n",
    "    \n",
    "    cnt += 1\n",
    "    print('--------대전끝---------')\n",
    "    print()"
   ]
  },
  {
   "cell_type": "markdown",
   "metadata": {},
   "source": [
    "### Workshop\n",
    "> 다음 조건에 맞는 Circle 클래스를 만들어 보세요.\n",
    "\n",
    "클래스 속성\n",
    "* `pi`: 3.14\n",
    "\n",
    "인스턴스 속성 (초기화 시 필요한 값들)\n",
    "* `r`: 원의 반지름 (필수 입력)\n",
    "* `x`: x좌표 (default 0)\n",
    "* `y`: y좌표 (default 0)\n",
    "\n",
    "인스턴스 메서드\n",
    "* `area()`: 원의 넓이를 반환\n",
    "* `circumference()`: 원의 둘레를 반환\n",
    "* `center()`: 원의 중심인 (x, y) 좌표를 튜플로 반환\n",
    "* `move(x, y)`: 원의 중심인 (x, y) 좌표를 입력받은 값으로 변경하고 변경된 좌표값을 튜플로 반환"
   ]
  },
  {
   "cell_type": "code",
   "execution_count": null,
   "metadata": {},
   "outputs": [],
   "source": [
    "# 여기에 클래스를 정의하세요"
   ]
  },
  {
   "cell_type": "code",
   "execution_count": 38,
   "metadata": {},
   "outputs": [],
   "source": [
    "class Circle:\n",
    "    pi = 3.14\n",
    "    \n",
    "    def __init__(self, r, x=0, y=0): # 기본값 인자는 항상 젤 뒤에 \n",
    "        self.r = r\n",
    "        self.x = x \n",
    "        self.y = y\n",
    "        \n",
    "    def area(self):\n",
    "        return pi * self.r * self.r\n",
    "    \n",
    "    def circumference(self):\n",
    "        return 2 * pi * r\n",
    "    \n",
    "    def center(self):\n",
    "        return tuple(x, y)\n",
    "    \n",
    "    def move(self, x2, y2):\n",
    "        self.x = x2\n",
    "        self.y = y2\n",
    "        return tuple(x2, y2)"
   ]
  },
  {
   "cell_type": "code",
   "execution_count": 17,
   "metadata": {},
   "outputs": [],
   "source": [
    "# 스앵님 풀이\n",
    "class Circle:\n",
    "    pi = 3.14\n",
    "    \n",
    "    def __init__(self, r, x=0, y=0):\n",
    "        self.r = r\n",
    "        self.x = x\n",
    "        self.y = y\n",
    "        \n",
    "    def area(self):\n",
    "        return self.r**2 * Circle.pi\n",
    "    \n",
    "    def circumference(self):\n",
    "        return 2 * self.r * Circle.pi\n",
    "    \n",
    "    def center(self):\n",
    "        return self.x, self.y # 여러개를 리턴하는 것 같지만 하나의 튜플로 반환됨.\n",
    "    \n",
    "    def move(self, x, y):\n",
    "        self.x = x\n",
    "        self.y = y\n",
    "        return f'좌표가 ({self.x}, {self.y})로 이동하였습니다.'"
   ]
  },
  {
   "cell_type": "code",
   "execution_count": 18,
   "metadata": {},
   "outputs": [
    {
     "data": {
      "text/plain": [
       "(0, 0)"
      ]
     },
     "execution_count": 18,
     "metadata": {},
     "output_type": "execute_result"
    }
   ],
   "source": [
    "c1 = Circle(3)\n",
    "c1.center()"
   ]
  },
  {
   "cell_type": "code",
   "execution_count": 19,
   "metadata": {},
   "outputs": [
    {
     "data": {
      "text/plain": [
       "'좌표가 (3, 3)로 이동하였습니다.'"
      ]
     },
     "execution_count": 19,
     "metadata": {},
     "output_type": "execute_result"
    }
   ],
   "source": [
    "c1.move(3, 3)"
   ]
  },
  {
   "cell_type": "code",
   "execution_count": 20,
   "metadata": {},
   "outputs": [
    {
     "data": {
      "text/plain": [
       "28.26"
      ]
     },
     "execution_count": 20,
     "metadata": {},
     "output_type": "execute_result"
    }
   ],
   "source": [
    "c1.area()"
   ]
  },
  {
   "cell_type": "code",
   "execution_count": 21,
   "metadata": {},
   "outputs": [
    {
     "data": {
      "text/plain": [
       "(5, 5)"
      ]
     },
     "execution_count": 21,
     "metadata": {},
     "output_type": "execute_result"
    }
   ],
   "source": [
    "c2 = Circle(1, 5, 5)\n",
    "c2.center()"
   ]
  },
  {
   "cell_type": "code",
   "execution_count": 22,
   "metadata": {},
   "outputs": [
    {
     "data": {
      "text/plain": [
       "1"
      ]
     },
     "execution_count": 22,
     "metadata": {},
     "output_type": "execute_result"
    }
   ],
   "source": [
    "c2.r"
   ]
  },
  {
   "cell_type": "code",
   "execution_count": 24,
   "metadata": {},
   "outputs": [
    {
     "data": {
      "text/plain": [
       "6.28"
      ]
     },
     "execution_count": 24,
     "metadata": {},
     "output_type": "execute_result"
    }
   ],
   "source": [
    "c2.circumference()"
   ]
  },
  {
   "cell_type": "code",
   "execution_count": 25,
   "metadata": {},
   "outputs": [
    {
     "data": {
      "text/plain": [
       "3.14"
      ]
     },
     "execution_count": 25,
     "metadata": {},
     "output_type": "execute_result"
    }
   ],
   "source": [
    "c2.area()"
   ]
  }
 ],
 "metadata": {
  "kernelspec": {
   "display_name": "Python 3",
   "language": "python",
   "name": "python3"
  },
  "language_info": {
   "codemirror_mode": {
    "name": "ipython",
    "version": 3
   },
   "file_extension": ".py",
   "mimetype": "text/x-python",
   "name": "python",
   "nbconvert_exporter": "python",
   "pygments_lexer": "ipython3",
   "version": "3.7.4"
  },
  "latex_envs": {
   "LaTeX_envs_menu_present": true,
   "autoclose": false,
   "autocomplete": true,
   "bibliofile": "biblio.bib",
   "cite_by": "apalike",
   "current_citInitial": 1,
   "eqLabelWithNumbers": true,
   "eqNumInitial": 1,
   "hotkeys": {
    "equation": "Ctrl-E",
    "itemize": "Ctrl-I"
   },
   "labels_anchors": false,
   "latex_user_defs": false,
   "report_style_numbering": false,
   "user_envs_cfg": false
  },
  "toc": {
   "base_numbering": 1,
   "nav_menu": {},
   "number_sections": true,
   "sideBar": true,
   "skip_h1_title": false,
   "title_cell": "Table of Contents",
   "title_sidebar": "Contents",
   "toc_cell": false,
   "toc_position": {
    "height": "calc(100% - 180px)",
    "left": "10px",
    "top": "150px",
    "width": "206.8px"
   },
   "toc_section_display": true,
   "toc_window_display": false
  }
 },
 "nbformat": 4,
 "nbformat_minor": 2
}
